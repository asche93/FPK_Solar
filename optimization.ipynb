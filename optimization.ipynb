{
 "cells": [
  {
   "cell_type": "code",
   "execution_count": 1,
   "id": "bf151306-8e48-45af-84d4-a9af5a59e81f",
   "metadata": {},
   "outputs": [],
   "source": [
    "import h5py\n",
    "import matplotlib.pyplot as plt\n",
    "import pvlib\n",
    "import numpy as np\n",
    "import pandas as pd"
   ]
  },
  {
   "cell_type": "code",
   "execution_count": 30,
   "id": "48687cbb-0ec0-4b94-862f-e02946521a3c",
   "metadata": {},
   "outputs": [],
   "source": [
    "##EZ DATA FRAME with dictionarys, string interpolation\n",
    "dates = ['20200915','20200916','20200917','20200918','20200919','20200920','20200921','20200922','20200923','20200924',\n",
    "         '20200925','20200926','20200927','20200928','20200929','20200930']\n",
    "stations = ['OLUOL','OLDON','OLCLO']\n",
    "data = {}\n",
    "\n",
    "for station in stations:\n",
    "    data[station]=[]\n",
    "    for date in dates:\n",
    "        filename= 'C:/Users/Andre Scheper/Sync/Studium/AKTUELL SoSe 22/Adv. Solar Energy Meteorology/ProjektWork' \\\n",
    "        + '/solenmet_ss22_group2/{s}/{d}.l1.h5'.format(s=station,d=date)\n",
    "        h5 = h5py.File(filename,'r')\n",
    "        data[station].append(h5['60s/ghi.1'][:])\n"
   ]
  },
  {
   "cell_type": "code",
   "execution_count": 31,
   "id": "b08c30ce-17af-4118-83cb-91195c923085",
   "metadata": {},
   "outputs": [],
   "source": [
    "## create variables with globals()\n",
    "\n",
    "for station in stations:    \n",
    "    filename= 'C:/Users/Andre Scheper/Sync/Studium/AKTUELL SoSe 22/Adv. Solar Energy Meteorology/ProjektWork' \\\n",
    "                + '/solenmet_ss22_group2/{s}/20200915.l1.h5'.format(s=station)\n",
    "    h5 = h5py.File(filename,'r')\n",
    "    globals()['lat_%s' % station] = h5.attrs['latitude']\n",
    "    globals()['lon_%s' % station] = h5.attrs['longitude']\n",
    "    \n",
    "    "
   ]
  },
  {
   "cell_type": "code",
   "execution_count": 32,
   "id": "ee19c67f-032c-4c24-97b3-58deb6b8e5e6",
   "metadata": {},
   "outputs": [],
   "source": [
    "## create variables with calling fct\n",
    "\n",
    "def get_geometry(location):\n",
    "    filename= 'C:/Users/Andre Scheper/Sync/Studium/AKTUELL SoSe 22/Adv. Solar Energy Meteorology/ProjektWork/' \\\n",
    "    + 'solenmet_ss22_group2/{s}/20200915.l1.h5'.format(s=location)\n",
    "    h5 = h5py.File(filename,'r')    \n",
    "    return h5.attrs['latitude'], h5.attrs['longitude'] \n",
    "    \n",
    "lat_UOL, lon_UOL = get_geometry('OLUOL')"
   ]
  },
  {
   "cell_type": "code",
   "execution_count": 33,
   "id": "fe506737-246b-4b75-b820-69a6846f165f",
   "metadata": {},
   "outputs": [],
   "source": [
    "## setting up vectors\n",
    "\n",
    "data =  l\n",
    "    \n",
    "\n",
    "\n",
    "\n",
    "OLCLO_dts = np.append(OLCLO_dts, day['60s/datetime'][:])"
   ]
  },
  {
   "cell_type": "code",
   "execution_count": null,
   "id": "dcc98197-29b0-4c2e-ba5d-b3bd5cf94f37",
   "metadata": {},
   "outputs": [],
   "source": []
  }
 ],
 "metadata": {
  "kernelspec": {
   "display_name": "Python 3 (ipykernel)",
   "language": "python",
   "name": "python3"
  },
  "language_info": {
   "codemirror_mode": {
    "name": "ipython",
    "version": 3
   },
   "file_extension": ".py",
   "mimetype": "text/x-python",
   "name": "python",
   "nbconvert_exporter": "python",
   "pygments_lexer": "ipython3",
   "version": "3.9.7"
  }
 },
 "nbformat": 4,
 "nbformat_minor": 5
}
